{
 "cells": [
  {
   "cell_type": "code",
   "execution_count": 1,
   "metadata": {},
   "outputs": [],
   "source": [
    "import numpy as np\n",
    "import pandas as pd"
   ]
  },
  {
   "cell_type": "code",
   "execution_count": 2,
   "metadata": {},
   "outputs": [],
   "source": [
    "# hyperparams\n",
    "my_seed = 881003\n",
    "valid_ratio = 0.1\n",
    "min_clip_value = 1e-20\n",
    "max_clip_value = 1 - 1e-20\n",
    "X_train_fpath = './data/X_train'\n",
    "y_train_fpath = './data/Y_train'\n",
    "X_test_fpath = './data/X_test'\n",
    "y_test_fpath = './output_{}.csv'"
   ]
  },
  {
   "cell_type": "code",
   "execution_count": 3,
   "metadata": {},
   "outputs": [],
   "source": [
    "# set numpy seed\n",
    "np.random.seed(my_seed)"
   ]
  },
  {
   "cell_type": "code",
   "execution_count": 4,
   "metadata": {},
   "outputs": [],
   "source": [
    "# read datasets\n",
    "X_train = pd.read_csv(X_train_fpath, index_col=['id'])\n",
    "X_test = pd.read_csv(X_test_fpath, index_col=['id'])\n",
    "y_train = pd.read_csv(y_train_fpath, index_col=['id']).to_numpy().astype('float64').flatten()"
   ]
  },
  {
   "cell_type": "code",
   "execution_count": 5,
   "metadata": {},
   "outputs": [],
   "source": [
    "def train_test_split(X, y, test_size=0.25):\n",
    "    permu = np.arange(X.shape[0])#np.random.permutation(X.shape[0])\n",
    "    train_size = int(X.shape[0] * (1 - test_size) + 0.5)\n",
    "    return X[permu[:train_size]], X[permu[train_size:]], y[permu[:train_size]], y[permu[train_size:]]"
   ]
  },
  {
   "cell_type": "code",
   "execution_count": 6,
   "metadata": {},
   "outputs": [],
   "source": [
    "# preprocess\n",
    "train_size = X_train.shape[0]\n",
    "X = pd.concat([X_train, X_test])\n",
    "count = X.nunique()\n",
    "one = count[count == 1].index\n",
    "two = count[count == 2].index\n",
    "three_or_more = count[count >= 3].index\n",
    "#X = X.drop(columns=one)\n",
    "#X[three_or_more] = (X[three_or_more] - X[three_or_more].mean()) / X[three_or_more].std()\n",
    "#X = (X - X.mean()) / X.std()\n",
    "\n",
    "X_train, X_test = X.iloc[:train_size, :], X.iloc[train_size:, :]\n",
    "X_train = X_train.to_numpy().astype('float64')\n",
    "X_test = X_test.to_numpy().astype('float64')\n",
    "#X_train, X_valid, y_train, y_valid = train_test_split(X_train, y_train, test_size=valid_ratio)"
   ]
  },
  {
   "cell_type": "code",
   "execution_count": 7,
   "metadata": {},
   "outputs": [
    {
     "name": "stdout",
     "output_type": "stream",
     "text": [
      "(54256, 510) (54256,) (27622, 510)\n"
     ]
    }
   ],
   "source": [
    "print(X_train.shape, y_train.shape, X_test.shape)"
   ]
  },
  {
   "cell_type": "code",
   "execution_count": 8,
   "metadata": {},
   "outputs": [],
   "source": [
    "# helper function for training\n",
    "def shuffle(X, y):\n",
    "    permu = np.random.permutation(X.shape[0])\n",
    "    return (X[permu], y[permu])\n",
    "def sigmoid(z):\n",
    "    return np.clip(1 / (1.0 + np.exp(-z)), min_clip_value, max_clip_value)\n",
    "def accuracy(y_pred, y_true):\n",
    "    return 1.0 - np.mean(np.abs(y_pred - y_true))\n",
    "def cross_entropy_loss(y_pred, y_true):\n",
    "    return -np.dot(y_true, np.log(y_pred)) - np.dot((1 - y_true), np.log(1 - y_pred))"
   ]
  },
  {
   "cell_type": "code",
   "execution_count": 9,
   "metadata": {},
   "outputs": [],
   "source": [
    "class GenerativeModel:\n",
    "    def __init__(self):\n",
    "        self.w = None\n",
    "        self.b = None\n",
    "    def f(self, X, w, b):\n",
    "        return sigmoid(X @ w + b)\n",
    "    def predict(self, X, w, b):\n",
    "        return np.round(self.f(X, w, b)).astype(np.int)\n",
    "    def predict_f(self, X):\n",
    "        return np.round(self.f(X, self.w, self.b)).astype(np.int)\n",
    "    def fit(self, X_train, y_train, X_valid=None, y_Valid=None):\n",
    "        # Compute in-class mean\n",
    "        X_train_0 = np.array([x for x, y in zip(X_train, y_train) if y == 0])\n",
    "        X_train_1 = np.array([x for x, y in zip(X_train, y_train) if y == 1])\n",
    "\n",
    "        mean_0 = np.mean(X_train_0, axis = 0)\n",
    "        mean_1 = np.mean(X_train_1, axis = 0)  \n",
    "\n",
    "        # Compute in-class covariance\n",
    "        cov_0 = np.zeros((X_train.shape[1], X_train.shape[1]))\n",
    "        cov_1 = np.zeros((X_train.shape[1], X_train.shape[1]))\n",
    "\n",
    "        for x in X_train_0:\n",
    "            cov_0 += np.dot(np.transpose([x - mean_0]), [x - mean_0]) / X_train_0.shape[0]\n",
    "        for x in X_train_1:\n",
    "            cov_1 += np.dot(np.transpose([x - mean_1]), [x - mean_1]) / X_train_1.shape[0]\n",
    "\n",
    "        # Shared covariance is taken as a weighted average of individual in-class covariance.\n",
    "        cov = (cov_0 * X_train_0.shape[0] + cov_1 * X_train_1.shape[0]) / (X_train_0.shape[0] + X_train_1.shape[0])\n",
    "    \n",
    "        # Compute inverse of covariance matrix.\n",
    "        # Since covariance matrix may be nearly singular, np.linalg.inv() may give a large numerical error.\n",
    "        # Via SVD decomposition, one can get matrix inverse efficiently and accurately.\n",
    "        u, s, v = np.linalg.svd(cov, full_matrices=False)\n",
    "        inv = np.matmul(v.T * 1 / s, u.T)\n",
    "\n",
    "        # Directly compute weights and bias\n",
    "        w = np.dot(inv, mean_0 - mean_1)\n",
    "        b =  (-0.5) * np.dot(mean_0, np.dot(inv, mean_0)) + 0.5 * np.dot(mean_1, np.dot(inv, mean_1))\\\n",
    "            + np.log(float(X_train_0.shape[0]) / X_train_1.shape[0]) \n",
    "\n",
    "        # Compute accuracy on training set\n",
    "        y_train_pred = 1 - self.predict(X_train, w, b)\n",
    "        print('Training accuracy: {}'.format(accuracy(y_train_pred, y_train)))\n",
    "        if X_valid is not None:\n",
    "            y_valid_pred = 1 - self.predict(X_valid, w, b)\n",
    "            print('Validate accuracy: {}'.format(accuracy(y_valid_pred, y_valid)))\n",
    "        self.w = w\n",
    "        self.b = b"
   ]
  },
  {
   "cell_type": "code",
   "execution_count": 10,
   "metadata": {},
   "outputs": [],
   "source": [
    "model = GenerativeModel()"
   ]
  },
  {
   "cell_type": "code",
   "execution_count": 11,
   "metadata": {
    "scrolled": true
   },
   "outputs": [
    {
     "name": "stdout",
     "output_type": "stream",
     "text": [
      "Training accuracy: 0.8712400471837216\n"
     ]
    }
   ],
   "source": [
    "# Validate accuracy: 0.8665683744931809 valid_ratio=0.1 881003\n",
    "model.fit(X_train, y_train)"
   ]
  },
  {
   "cell_type": "code",
   "execution_count": 12,
   "metadata": {},
   "outputs": [],
   "source": [
    "y_test_pred = pd.DataFrame(1 - model.predict_f(X_test).transpose())\n",
    "y_test_pred.columns = ['label']\n",
    "y_test_pred['id'] = range(0, X_test.shape[0])\n",
    "y_test_pred = y_test_pred.reindex(columns=['id', 'label'])\n",
    "y_test_pred.to_csv(y_test_fpath.format('generative'), index=None)"
   ]
  },
  {
   "cell_type": "code",
   "execution_count": null,
   "metadata": {},
   "outputs": [],
   "source": []
  }
 ],
 "metadata": {
  "kernelspec": {
   "display_name": "Python 3",
   "language": "python",
   "name": "python3"
  },
  "language_info": {
   "codemirror_mode": {
    "name": "ipython",
    "version": 3
   },
   "file_extension": ".py",
   "mimetype": "text/x-python",
   "name": "python",
   "nbconvert_exporter": "python",
   "pygments_lexer": "ipython3",
   "version": "3.7.0"
  }
 },
 "nbformat": 4,
 "nbformat_minor": 4
}
